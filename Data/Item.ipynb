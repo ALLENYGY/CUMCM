{
 "cells": [
  {
   "cell_type": "code",
   "execution_count": 2,
   "metadata": {},
   "outputs": [],
   "source": [
    "import pandas as pd"
   ]
  },
  {
   "cell_type": "code",
   "execution_count": 3,
   "metadata": {},
   "outputs": [],
   "source": [
    "df1 = pd.read_excel('1.xlsx')\n",
    "df2 = pd.read_excel('2.xlsx')\n",
    "df3 = pd.read_excel('3.xlsx')\n",
    "df4 = pd.read_excel('4.xlsx')"
   ]
  },
  {
   "cell_type": "code",
   "execution_count": 4,
   "metadata": {},
   "outputs": [
    {
     "data": {
      "text/html": [
       "<div>\n",
       "<style scoped>\n",
       "    .dataframe tbody tr th:only-of-type {\n",
       "        vertical-align: middle;\n",
       "    }\n",
       "\n",
       "    .dataframe tbody tr th {\n",
       "        vertical-align: top;\n",
       "    }\n",
       "\n",
       "    .dataframe thead th {\n",
       "        text-align: right;\n",
       "    }\n",
       "</style>\n",
       "<table border=\"1\" class=\"dataframe\">\n",
       "  <thead>\n",
       "    <tr style=\"text-align: right;\">\n",
       "      <th></th>\n",
       "      <th>日期</th>\n",
       "      <th>单品编码</th>\n",
       "      <th>批发价格(元/千克)</th>\n",
       "    </tr>\n",
       "  </thead>\n",
       "  <tbody>\n",
       "    <tr>\n",
       "      <th>0</th>\n",
       "      <td>2020-07-01</td>\n",
       "      <td>102900005115762</td>\n",
       "      <td>3.88</td>\n",
       "    </tr>\n",
       "    <tr>\n",
       "      <th>1</th>\n",
       "      <td>2020-07-01</td>\n",
       "      <td>102900005115779</td>\n",
       "      <td>6.72</td>\n",
       "    </tr>\n",
       "    <tr>\n",
       "      <th>2</th>\n",
       "      <td>2020-07-01</td>\n",
       "      <td>102900005115786</td>\n",
       "      <td>3.19</td>\n",
       "    </tr>\n",
       "    <tr>\n",
       "      <th>3</th>\n",
       "      <td>2020-07-01</td>\n",
       "      <td>102900005115793</td>\n",
       "      <td>9.24</td>\n",
       "    </tr>\n",
       "    <tr>\n",
       "      <th>4</th>\n",
       "      <td>2020-07-01</td>\n",
       "      <td>102900005115823</td>\n",
       "      <td>7.03</td>\n",
       "    </tr>\n",
       "  </tbody>\n",
       "</table>\n",
       "</div>"
      ],
      "text/plain": [
       "          日期             单品编码  批发价格(元/千克)\n",
       "0 2020-07-01  102900005115762        3.88\n",
       "1 2020-07-01  102900005115779        6.72\n",
       "2 2020-07-01  102900005115786        3.19\n",
       "3 2020-07-01  102900005115793        9.24\n",
       "4 2020-07-01  102900005115823        7.03"
      ]
     },
     "execution_count": 4,
     "metadata": {},
     "output_type": "execute_result"
    }
   ],
   "source": [
    "df3.head()"
   ]
  },
  {
   "cell_type": "code",
   "execution_count": 5,
   "metadata": {},
   "outputs": [
    {
     "name": "stdout",
     "output_type": "stream",
     "text": [
      "             销售日期        扫码销售时间             单品编码  销量(千克)  销售单价(元/千克) 销售类型  \\\n",
      "0      2020-07-01  09:15:07.924  102900005117056   0.396         7.6   销售   \n",
      "1      2020-07-01  09:17:27.295  102900005115960   0.849         3.2   销售   \n",
      "2      2020-07-01  09:17:33.905  102900005117056   0.409         7.6   销售   \n",
      "3      2020-07-01  09:19:45.450  102900005115823   0.421        10.0   销售   \n",
      "4      2020-07-01  09:20:23.686  102900005115908   0.539         8.0   销售   \n",
      "...           ...           ...              ...     ...         ...  ...   \n",
      "878498 2023-06-30  21:35:13.264  102900005115250   0.284        24.0   销售   \n",
      "878499 2023-06-30  21:35:14.358  102900011022764   0.669        12.0   销售   \n",
      "878500 2023-06-30  21:35:20.264  102900005115250   0.125        24.0   销售   \n",
      "878501 2023-06-30  21:35:21.509  102900011016701   0.252         5.2   销售   \n",
      "878502 2023-06-30  21:40:48.248  102900011022764   0.803        12.0   销售   \n",
      "\n",
      "       是否打折销售     单品名称 分类名称  \n",
      "0           否  泡泡椒(精品)  辣椒类  \n",
      "1           否      大白菜  花叶类  \n",
      "2           否  泡泡椒(精品)  辣椒类  \n",
      "3           否      上海青  花叶类  \n",
      "4           否       菜心  花叶类  \n",
      "...       ...      ...  ...  \n",
      "878498      否  西峡花菇(1)  食用菌  \n",
      "878499      否      长线茄   茄类  \n",
      "878500      否  西峡花菇(1)  食用菌  \n",
      "878501      否  芜湖青椒(1)  辣椒类  \n",
      "878502      否      长线茄   茄类  \n",
      "\n",
      "[878503 rows x 9 columns]\n"
     ]
    }
   ],
   "source": [
    "# 提取第一个表中的 \"单品编码\"、\"单品名称\" 和 \"分类名称\" 列\n",
    "df1_subset = df1[['单品编码', '单品名称', '分类名称']]\n",
    "\n",
    "# 使用 merge 函数将两个表根据 \"单品编码\" 列合并\n",
    "merged_df = df2.merge(df1_subset, left_on='单品编码', right_on='单品编码', how='left')\n",
    "\n",
    "# 打印合并后的结果\n",
    "print(merged_df)\n"
   ]
  },
  {
   "cell_type": "code",
   "execution_count": null,
   "metadata": {},
   "outputs": [],
   "source": [
    "merged_df.to_excel('Result.xlsx', index=False)"
   ]
  }
 ],
 "metadata": {
  "kernelspec": {
   "display_name": "Python 3",
   "language": "python",
   "name": "python3"
  },
  "language_info": {
   "codemirror_mode": {
    "name": "ipython",
    "version": 3
   },
   "file_extension": ".py",
   "mimetype": "text/x-python",
   "name": "python",
   "nbconvert_exporter": "python",
   "pygments_lexer": "ipython3",
   "version": "3.10.8"
  },
  "orig_nbformat": 4
 },
 "nbformat": 4,
 "nbformat_minor": 2
}
