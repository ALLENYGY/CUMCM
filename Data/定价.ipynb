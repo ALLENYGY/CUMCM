{
 "cells": [
  {
   "cell_type": "code",
   "execution_count": 2,
   "metadata": {},
   "outputs": [],
   "source": [
    "import pandas as pd"
   ]
  },
  {
   "cell_type": "code",
   "execution_count": 3,
   "metadata": {},
   "outputs": [],
   "source": [
    "df1 = pd.read_excel('1.xlsx')\n",
    "df2 = pd.read_excel('2.xlsx')\n",
    "# df3 = pd.read_excel('3.xlsx')\n",
    "# df4 = pd.read_excel('4.xlsx')"
   ]
  },
  {
   "cell_type": "code",
   "execution_count": 5,
   "metadata": {},
   "outputs": [
    {
     "name": "stdout",
     "output_type": "stream",
     "text": [
      "             销售日期        扫码销售时间             单品编码  销量(千克)  销售单价(元/千克) 销售类型  \\\n",
      "0      2020-07-01  09:15:07.924  102900005117056   0.396         7.6   销售   \n",
      "1      2020-07-01  09:17:27.295  102900005115960   0.849         3.2   销售   \n",
      "2      2020-07-01  09:17:33.905  102900005117056   0.409         7.6   销售   \n",
      "3      2020-07-01  09:19:45.450  102900005115823   0.421        10.0   销售   \n",
      "4      2020-07-01  09:20:23.686  102900005115908   0.539         8.0   销售   \n",
      "...           ...           ...              ...     ...         ...  ...   \n",
      "878498 2023-06-30  21:35:13.264  102900005115250   0.284        24.0   销售   \n",
      "878499 2023-06-30  21:35:14.358  102900011022764   0.669        12.0   销售   \n",
      "878500 2023-06-30  21:35:20.264  102900005115250   0.125        24.0   销售   \n",
      "878501 2023-06-30  21:35:21.509  102900011016701   0.252         5.2   销售   \n",
      "878502 2023-06-30  21:40:48.248  102900011022764   0.803        12.0   销售   \n",
      "\n",
      "       是否打折销售     单品名称 分类名称  \n",
      "0           否  泡泡椒(精品)  辣椒类  \n",
      "1           否      大白菜  花叶类  \n",
      "2           否  泡泡椒(精品)  辣椒类  \n",
      "3           否      上海青  花叶类  \n",
      "4           否       菜心  花叶类  \n",
      "...       ...      ...  ...  \n",
      "878498      否  西峡花菇(1)  食用菌  \n",
      "878499      否      长线茄   茄类  \n",
      "878500      否  西峡花菇(1)  食用菌  \n",
      "878501      否  芜湖青椒(1)  辣椒类  \n",
      "878502      否      长线茄   茄类  \n",
      "\n",
      "[878503 rows x 9 columns]\n"
     ]
    }
   ],
   "source": [
    "# 提取第一个表中的 \"单品编码\"、\"单品名称\" 和 \"分类名称\" 列\n",
    "df1_subset = df1[['单品编码', '单品名称', '分类名称']]\n",
    "\n",
    "# 使用 merge 函数将两个表根据 \"单品编码\" 列合并\n",
    "merged_df = df2.merge(df1_subset, left_on='单品编码', right_on='单品编码', how='left')\n",
    "\n",
    "# 打印合并后的结果\n",
    "print(merged_df)\n"
   ]
  },
  {
   "cell_type": "code",
   "execution_count": null,
   "metadata": {},
   "outputs": [],
   "source": [
    "merged_df.to_excel('Result.xlsx', index=False)"
   ]
  },
  {
   "cell_type": "code",
   "execution_count": 3,
   "metadata": {},
   "outputs": [],
   "source": [
    "df = pd.read_excel('Result.xlsx')\n",
    "df.head()"
   ]
  },
  {
   "cell_type": "code",
   "execution_count": 7,
   "metadata": {},
   "outputs": [
    {
     "name": "stdout",
     "output_type": "stream",
     "text": [
      "            销售日期        单品名称  销量(千克)\n",
      "0     2020-07-01      七彩椒(1)   1.909\n",
      "1     2020-07-01         上海青  11.476\n",
      "2     2020-07-01       云南油麦菜  32.579\n",
      "3     2020-07-01        云南生菜  41.966\n",
      "4     2020-07-01        外地茼蒿   2.623\n",
      "...          ...         ...     ...\n",
      "46594 2023-06-30      金针菇(盒)  13.000\n",
      "46595 2023-06-30         长线茄   8.789\n",
      "46596 2023-06-30  青红杭椒组合装(份)   4.000\n",
      "46597 2023-06-30       高瓜(1)   3.780\n",
      "46598 2023-06-30       高瓜(2)   0.512\n",
      "\n",
      "[46599 rows x 3 columns]\n"
     ]
    }
   ],
   "source": [
    "# 将销售日期和单品名称作为分类依据，并计算销售总量\n",
    "result = df.groupby(['销售日期', '单品名称'])['销量(千克)'].sum().reset_index()\n",
    "print(result)"
   ]
  },
  {
   "cell_type": "code",
   "execution_count": 14,
   "metadata": {},
   "outputs": [
    {
     "name": "stdout",
     "output_type": "stream",
     "text": [
      "            销售日期    单品名称  销售单价(元/千克)  销量(千克)   分类名称 销售类型\n",
      "0     2020-07-01  七彩椒(1)        16.0   1.909    辣椒类   销售\n",
      "1     2020-07-01     上海青        10.0  11.476    花叶类   销售\n",
      "2     2020-07-01     上海青        10.0  11.476    花叶类   退货\n",
      "3     2020-07-01   云南油麦菜         6.0  32.579    花叶类   销售\n",
      "4     2020-07-01   云南油麦菜         6.0  32.579    花叶类   退货\n",
      "...          ...     ...         ...     ...    ...  ...\n",
      "99587 2023-06-30   高瓜(1)        16.0   1.210  水生根茎类   退货\n",
      "99588 2023-06-30   高瓜(2)        10.8   0.228  水生根茎类   销售\n",
      "99589 2023-06-30   高瓜(2)        10.8   0.228  水生根茎类   退货\n",
      "99590 2023-06-30   高瓜(2)        18.0   0.284  水生根茎类   销售\n",
      "99591 2023-06-30   高瓜(2)        18.0   0.284  水生根茎类   退货\n",
      "\n",
      "[99592 rows x 6 columns]\n"
     ]
    }
   ],
   "source": [
    "# 将销售日期和单品名称作为分类条件，求销售总量\n",
    "sales_summary = df.groupby(['销售日期', '单品名称','销售单价(元/千克)']).agg({'销量(千克)': 'sum'}).reset_index()\n",
    "\n",
    "# 创建包含分类名称、销售类型和是否打折销售的表格\n",
    "category_info = df[['单品名称', '分类名称', '销售类型']].drop_duplicates()\n",
    "\n",
    "# 将销售总量与分类信息合并成一个表格\n",
    "result = pd.merge(sales_summary, category_info, on='单品名称', how='left')\n",
    "\n",
    "print(result)\n",
    "\n",
    "# 假设你的DataFrame名为 result_df，将其保存为名为 \"result.xlsx\" 的Excel文件\n",
    "result.to_excel('Result.xlsx', index=False)"
   ]
  },
  {
   "cell_type": "code",
   "execution_count": 15,
   "metadata": {},
   "outputs": [],
   "source": [
    "df = pd.read_excel('Result.xlsx')"
   ]
  },
  {
   "cell_type": "code",
   "execution_count": 16,
   "metadata": {},
   "outputs": [
    {
     "data": {
      "text/html": [
       "<div>\n",
       "<style scoped>\n",
       "    .dataframe tbody tr th:only-of-type {\n",
       "        vertical-align: middle;\n",
       "    }\n",
       "\n",
       "    .dataframe tbody tr th {\n",
       "        vertical-align: top;\n",
       "    }\n",
       "\n",
       "    .dataframe thead th {\n",
       "        text-align: right;\n",
       "    }\n",
       "</style>\n",
       "<table border=\"1\" class=\"dataframe\">\n",
       "  <thead>\n",
       "    <tr style=\"text-align: right;\">\n",
       "      <th></th>\n",
       "      <th>销售日期</th>\n",
       "      <th>单品名称</th>\n",
       "      <th>销售单价(元/千克)</th>\n",
       "      <th>销量</th>\n",
       "      <th>分类名称</th>\n",
       "      <th>销售类型</th>\n",
       "      <th>销量(千克)</th>\n",
       "    </tr>\n",
       "  </thead>\n",
       "  <tbody>\n",
       "    <tr>\n",
       "      <th>0</th>\n",
       "      <td>2020-07-01</td>\n",
       "      <td>七彩椒(1)</td>\n",
       "      <td>16.0</td>\n",
       "      <td>1.909</td>\n",
       "      <td>辣椒类</td>\n",
       "      <td>销售</td>\n",
       "      <td>1.909</td>\n",
       "    </tr>\n",
       "    <tr>\n",
       "      <th>1</th>\n",
       "      <td>2020-07-01</td>\n",
       "      <td>上海青</td>\n",
       "      <td>10.0</td>\n",
       "      <td>11.476</td>\n",
       "      <td>花叶类</td>\n",
       "      <td>销售</td>\n",
       "      <td>11.476</td>\n",
       "    </tr>\n",
       "    <tr>\n",
       "      <th>2</th>\n",
       "      <td>2020-07-01</td>\n",
       "      <td>上海青</td>\n",
       "      <td>10.0</td>\n",
       "      <td>11.476</td>\n",
       "      <td>花叶类</td>\n",
       "      <td>退货</td>\n",
       "      <td>-11.476</td>\n",
       "    </tr>\n",
       "    <tr>\n",
       "      <th>3</th>\n",
       "      <td>2020-07-01</td>\n",
       "      <td>云南油麦菜</td>\n",
       "      <td>6.0</td>\n",
       "      <td>32.579</td>\n",
       "      <td>花叶类</td>\n",
       "      <td>销售</td>\n",
       "      <td>32.579</td>\n",
       "    </tr>\n",
       "    <tr>\n",
       "      <th>4</th>\n",
       "      <td>2020-07-01</td>\n",
       "      <td>云南油麦菜</td>\n",
       "      <td>6.0</td>\n",
       "      <td>32.579</td>\n",
       "      <td>花叶类</td>\n",
       "      <td>退货</td>\n",
       "      <td>-32.579</td>\n",
       "    </tr>\n",
       "  </tbody>\n",
       "</table>\n",
       "</div>"
      ],
      "text/plain": [
       "        销售日期    单品名称  销售单价(元/千克)      销量 分类名称 销售类型  销量(千克)\n",
       "0 2020-07-01  七彩椒(1)        16.0   1.909  辣椒类   销售   1.909\n",
       "1 2020-07-01     上海青        10.0  11.476  花叶类   销售  11.476\n",
       "2 2020-07-01     上海青        10.0  11.476  花叶类   退货 -11.476\n",
       "3 2020-07-01   云南油麦菜         6.0  32.579  花叶类   销售  32.579\n",
       "4 2020-07-01   云南油麦菜         6.0  32.579  花叶类   退货 -32.579"
      ]
     },
     "execution_count": 16,
     "metadata": {},
     "output_type": "execute_result"
    }
   ],
   "source": [
    "df.head()"
   ]
  },
  {
   "cell_type": "code",
   "execution_count": null,
   "metadata": {},
   "outputs": [],
   "source": [
    "# 计算每个商品的销售额（销售量 * 销售单价）\n",
    "merged_df['销售额'] = merged_df['销量(千克)'] * merged_df['销售单价(元/千克)']\n",
    "\n",
    "# 按照 \"单品名称\" 列对销售额进行分组，并计算每个品类的销售额总和\n",
    "category_sales_revenue = merged_df.groupby('单品名称')['销售额'].sum()\n",
    "\n",
    "# 按照 \"单品名称\" 列对 merged_df 进行分组，并计算每个分类的销量总和\n",
    "category_sales = merged_df.groupby('单品名称')['销量(千克)'].sum()\n",
    "\n",
    "# 将 Series 转换为 DataFrame，并将列名重命名为 \"销售总和\"\n",
    "category_sales_df = category_sales.reset_index().rename(columns={'销量(千克)': '销售总和'})\n",
    "\n",
    "# 将结果转换为一个DataFrame\n",
    "category_sales_revenue_df = category_sales_revenue.reset_index().rename(columns={'销售额': '销售额总和'})\n",
    "\n",
    "# 合并销售总和和销售额总和的两个DataFrame\n",
    "result_df = category_sales_df.merge(category_sales_revenue_df, on='单品名称', how='left')\n",
    "\n",
    "# 打印结果\n",
    "print(result_df)\n",
    "\n"
   ]
  }
 ],
 "metadata": {
  "kernelspec": {
   "display_name": "Python 3",
   "language": "python",
   "name": "python3"
  },
  "language_info": {
   "codemirror_mode": {
    "name": "ipython",
    "version": 3
   },
   "file_extension": ".py",
   "mimetype": "text/x-python",
   "name": "python",
   "nbconvert_exporter": "python",
   "pygments_lexer": "ipython3",
   "version": "3.10.8"
  },
  "orig_nbformat": 4
 },
 "nbformat": 4,
 "nbformat_minor": 2
}
