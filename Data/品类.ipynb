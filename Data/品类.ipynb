{
 "cells": [
  {
   "cell_type": "code",
   "execution_count": 23,
   "metadata": {},
   "outputs": [],
   "source": [
    "import pandas as pd"
   ]
  },
  {
   "cell_type": "code",
   "execution_count": 24,
   "metadata": {},
   "outputs": [],
   "source": [
    "df1 = pd.read_excel('1.xlsx')\n",
    "df2 = pd.read_excel('2.xlsx')"
   ]
  },
  {
   "cell_type": "code",
   "execution_count": 25,
   "metadata": {},
   "outputs": [],
   "source": [
    "# 提取第一个表中的 \"单品编码\"、\"单品名称\" 和 \"分类名称\" 列\n",
    "df1_subset = df1[['单品编码', '单品名称', '分类名称']]\n"
   ]
  },
  {
   "cell_type": "code",
   "execution_count": 26,
   "metadata": {},
   "outputs": [
    {
     "name": "stdout",
     "output_type": "stream",
     "text": [
      "             销售日期        扫码销售时间             单品编码  销量(千克)  销售单价(元/千克) 销售类型  \\\n",
      "0      2020-07-01  09:15:07.924  102900005117056   0.396         7.6   销售   \n",
      "1      2020-07-01  09:17:27.295  102900005115960   0.849         3.2   销售   \n",
      "2      2020-07-01  09:17:33.905  102900005117056   0.409         7.6   销售   \n",
      "3      2020-07-01  09:19:45.450  102900005115823   0.421        10.0   销售   \n",
      "4      2020-07-01  09:20:23.686  102900005115908   0.539         8.0   销售   \n",
      "...           ...           ...              ...     ...         ...  ...   \n",
      "878498 2023-06-30  21:35:13.264  102900005115250   0.284        24.0   销售   \n",
      "878499 2023-06-30  21:35:14.358  102900011022764   0.669        12.0   销售   \n",
      "878500 2023-06-30  21:35:20.264  102900005115250   0.125        24.0   销售   \n",
      "878501 2023-06-30  21:35:21.509  102900011016701   0.252         5.2   销售   \n",
      "878502 2023-06-30  21:40:48.248  102900011022764   0.803        12.0   销售   \n",
      "\n",
      "       是否打折销售     单品名称 分类名称  \n",
      "0           否  泡泡椒(精品)  辣椒类  \n",
      "1           否      大白菜  花叶类  \n",
      "2           否  泡泡椒(精品)  辣椒类  \n",
      "3           否      上海青  花叶类  \n",
      "4           否       菜心  花叶类  \n",
      "...       ...      ...  ...  \n",
      "878498      否  西峡花菇(1)  食用菌  \n",
      "878499      否      长线茄   茄类  \n",
      "878500      否  西峡花菇(1)  食用菌  \n",
      "878501      否  芜湖青椒(1)  辣椒类  \n",
      "878502      否      长线茄   茄类  \n",
      "\n",
      "[878503 rows x 9 columns]\n"
     ]
    }
   ],
   "source": [
    "# 使用 merge 函数将两个表根据 \"单品编码\" 列合并\n",
    "merged_df = df2.merge(df1_subset, left_on='单品编码', right_on='单品编码', how='left')\n",
    "\n",
    "# 打印合并后的结果\n",
    "print(merged_df)"
   ]
  },
  {
   "cell_type": "code",
   "execution_count": 27,
   "metadata": {},
   "outputs": [
    {
     "name": "stdout",
     "output_type": "stream",
     "text": [
      "             销售日期        扫码销售时间             单品编码  销量(千克)  销售单价(元/千克) 销售类型  \\\n",
      "0      2020-07-01  09:15:07.924  102900005117056   0.396         7.6   销售   \n",
      "1      2020-07-01  09:17:27.295  102900005115960   0.849         3.2   销售   \n",
      "2      2020-07-01  09:17:33.905  102900005117056   0.409         7.6   销售   \n",
      "3      2020-07-01  09:19:45.450  102900005115823   0.421        10.0   销售   \n",
      "4      2020-07-01  09:20:23.686  102900005115908   0.539         8.0   销售   \n",
      "...           ...           ...              ...     ...         ...  ...   \n",
      "878498 2023-06-30  21:35:13.264  102900005115250   0.284        24.0   销售   \n",
      "878499 2023-06-30  21:35:14.358  102900011022764   0.669        12.0   销售   \n",
      "878500 2023-06-30  21:35:20.264  102900005115250   0.125        24.0   销售   \n",
      "878501 2023-06-30  21:35:21.509  102900011016701   0.252         5.2   销售   \n",
      "878502 2023-06-30  21:40:48.248  102900011022764   0.803        12.0   销售   \n",
      "\n",
      "       是否打折销售     单品名称 分类名称    年份  月份  \n",
      "0           否  泡泡椒(精品)  辣椒类  2020   7  \n",
      "1           否      大白菜  花叶类  2020   7  \n",
      "2           否  泡泡椒(精品)  辣椒类  2020   7  \n",
      "3           否      上海青  花叶类  2020   7  \n",
      "4           否       菜心  花叶类  2020   7  \n",
      "...       ...      ...  ...   ...  ..  \n",
      "878498      否  西峡花菇(1)  食用菌  2023   6  \n",
      "878499      否      长线茄   茄类  2023   6  \n",
      "878500      否  西峡花菇(1)  食用菌  2023   6  \n",
      "878501      否  芜湖青椒(1)  辣椒类  2023   6  \n",
      "878502      否      长线茄   茄类  2023   6  \n",
      "\n",
      "[878503 rows x 11 columns]\n"
     ]
    }
   ],
   "source": [
    "# 将销售日期转换为日期时间对象\n",
    "merged_df['销售日期'] = pd.to_datetime(merged_df['销售日期'])\n",
    "\n",
    "# 提取年份和月份\n",
    "merged_df['年份'] = merged_df['销售日期'].dt.year\n",
    "merged_df['月份'] = merged_df['销售日期'].dt.month\n",
    "\n",
    "# 创建标签列\n",
    "# merged_df['年月'] = merged_df['年份'].astype(str) + '-' + merged_df['月份'].astype(str)\n",
    "\n",
    "print(merged_df)"
   ]
  },
  {
   "cell_type": "code",
   "execution_count": 51,
   "metadata": {},
   "outputs": [
    {
     "name": "stdout",
     "output_type": "stream",
     "text": [
      "             销售日期        扫码销售时间             单品编码  销量(千克)  销售单价(元/千克) 销售类型  \\\n",
      "0      2020-07-01  09:15:07.924  102900005117056   0.396         7.6   销售   \n",
      "1      2020-07-01  09:17:27.295  102900005115960   0.849         3.2   销售   \n",
      "2      2020-07-01  09:17:33.905  102900005117056   0.409         7.6   销售   \n",
      "3      2020-07-01  09:19:45.450  102900005115823   0.421        10.0   销售   \n",
      "4      2020-07-01  09:20:23.686  102900005115908   0.539         8.0   销售   \n",
      "...           ...           ...              ...     ...         ...  ...   \n",
      "878498 2023-06-30  21:35:13.264  102900005115250   0.284        24.0   销售   \n",
      "878499 2023-06-30  21:35:14.358  102900011022764   0.669        12.0   销售   \n",
      "878500 2023-06-30  21:35:20.264  102900005115250   0.125        24.0   销售   \n",
      "878501 2023-06-30  21:35:21.509  102900011016701   0.252         5.2   销售   \n",
      "878502 2023-06-30  21:40:48.248  102900011022764   0.803        12.0   销售   \n",
      "\n",
      "       是否打折销售     单品名称 分类名称    年份  月份     年-月      年-月-品类  \n",
      "0           否  泡泡椒(精品)  辣椒类  2020   7  2020-7  2020-7-辣椒类  \n",
      "1           否      大白菜  花叶类  2020   7  2020-7  2020-7-花叶类  \n",
      "2           否  泡泡椒(精品)  辣椒类  2020   7  2020-7  2020-7-辣椒类  \n",
      "3           否      上海青  花叶类  2020   7  2020-7  2020-7-花叶类  \n",
      "4           否       菜心  花叶类  2020   7  2020-7  2020-7-花叶类  \n",
      "...       ...      ...  ...   ...  ..     ...         ...  \n",
      "878498      否  西峡花菇(1)  食用菌  2023   6  2023-6  2023-6-食用菌  \n",
      "878499      否      长线茄   茄类  2023   6  2023-6   2023-6-茄类  \n",
      "878500      否  西峡花菇(1)  食用菌  2023   6  2023-6  2023-6-食用菌  \n",
      "878501      否  芜湖青椒(1)  辣椒类  2023   6  2023-6  2023-6-辣椒类  \n",
      "878502      否      长线茄   茄类  2023   6  2023-6   2023-6-茄类  \n",
      "\n",
      "[878503 rows x 13 columns]\n"
     ]
    },
    {
     "ename": "KeyboardInterrupt",
     "evalue": "",
     "output_type": "error",
     "traceback": [
      "\u001b[0;31m---------------------------------------------------------------------------\u001b[0m",
      "\u001b[0;31mKeyboardInterrupt\u001b[0m                         Traceback (most recent call last)",
      "Cell \u001b[0;32mIn[51], line 8\u001b[0m\n\u001b[1;32m      5\u001b[0m \u001b[39mprint\u001b[39m(merged_df)\n\u001b[1;32m      7\u001b[0m \u001b[39m# 假设你的DataFrame名为 result_df，将其保存为名为 \"result.xlsx\" 的Excel文件\u001b[39;00m\n\u001b[0;32m----> 8\u001b[0m merged_df\u001b[39m.\u001b[39;49mto_excel(\u001b[39m'\u001b[39;49m\u001b[39mResult.xlsx\u001b[39;49m\u001b[39m'\u001b[39;49m, index\u001b[39m=\u001b[39;49m\u001b[39mFalse\u001b[39;49;00m)\n",
      "File \u001b[0;32m/opt/homebrew/anaconda3/lib/python3.10/site-packages/pandas/core/generic.py:2252\u001b[0m, in \u001b[0;36mNDFrame.to_excel\u001b[0;34m(self, excel_writer, sheet_name, na_rep, float_format, columns, header, index, index_label, startrow, startcol, engine, merge_cells, inf_rep, freeze_panes, storage_options)\u001b[0m\n\u001b[1;32m   2239\u001b[0m \u001b[39mfrom\u001b[39;00m \u001b[39mpandas\u001b[39;00m\u001b[39m.\u001b[39;00m\u001b[39mio\u001b[39;00m\u001b[39m.\u001b[39;00m\u001b[39mformats\u001b[39;00m\u001b[39m.\u001b[39;00m\u001b[39mexcel\u001b[39;00m \u001b[39mimport\u001b[39;00m ExcelFormatter\n\u001b[1;32m   2241\u001b[0m formatter \u001b[39m=\u001b[39m ExcelFormatter(\n\u001b[1;32m   2242\u001b[0m     df,\n\u001b[1;32m   2243\u001b[0m     na_rep\u001b[39m=\u001b[39mna_rep,\n\u001b[0;32m   (...)\u001b[0m\n\u001b[1;32m   2250\u001b[0m     inf_rep\u001b[39m=\u001b[39minf_rep,\n\u001b[1;32m   2251\u001b[0m )\n\u001b[0;32m-> 2252\u001b[0m formatter\u001b[39m.\u001b[39;49mwrite(\n\u001b[1;32m   2253\u001b[0m     excel_writer,\n\u001b[1;32m   2254\u001b[0m     sheet_name\u001b[39m=\u001b[39;49msheet_name,\n\u001b[1;32m   2255\u001b[0m     startrow\u001b[39m=\u001b[39;49mstartrow,\n\u001b[1;32m   2256\u001b[0m     startcol\u001b[39m=\u001b[39;49mstartcol,\n\u001b[1;32m   2257\u001b[0m     freeze_panes\u001b[39m=\u001b[39;49mfreeze_panes,\n\u001b[1;32m   2258\u001b[0m     engine\u001b[39m=\u001b[39;49mengine,\n\u001b[1;32m   2259\u001b[0m     storage_options\u001b[39m=\u001b[39;49mstorage_options,\n\u001b[1;32m   2260\u001b[0m )\n",
      "File \u001b[0;32m/opt/homebrew/anaconda3/lib/python3.10/site-packages/pandas/io/formats/excel.py:950\u001b[0m, in \u001b[0;36mExcelFormatter.write\u001b[0;34m(self, writer, sheet_name, startrow, startcol, freeze_panes, engine, storage_options)\u001b[0m\n\u001b[1;32m    947\u001b[0m \u001b[39mfinally\u001b[39;00m:\n\u001b[1;32m    948\u001b[0m     \u001b[39m# make sure to close opened file handles\u001b[39;00m\n\u001b[1;32m    949\u001b[0m     \u001b[39mif\u001b[39;00m need_save:\n\u001b[0;32m--> 950\u001b[0m         writer\u001b[39m.\u001b[39;49mclose()\n",
      "File \u001b[0;32m/opt/homebrew/anaconda3/lib/python3.10/site-packages/pandas/io/excel/_base.py:1326\u001b[0m, in \u001b[0;36mExcelWriter.close\u001b[0;34m(self)\u001b[0m\n\u001b[1;32m   1324\u001b[0m \u001b[39mdef\u001b[39;00m \u001b[39mclose\u001b[39m(\u001b[39mself\u001b[39m) \u001b[39m-\u001b[39m\u001b[39m>\u001b[39m \u001b[39mNone\u001b[39;00m:\n\u001b[1;32m   1325\u001b[0m \u001b[39m    \u001b[39m\u001b[39m\"\"\"synonym for save, to make it more file-like\"\"\"\u001b[39;00m\n\u001b[0;32m-> 1326\u001b[0m     \u001b[39mself\u001b[39;49m\u001b[39m.\u001b[39;49m_save()\n\u001b[1;32m   1327\u001b[0m     \u001b[39mself\u001b[39m\u001b[39m.\u001b[39m_handles\u001b[39m.\u001b[39mclose()\n",
      "File \u001b[0;32m/opt/homebrew/anaconda3/lib/python3.10/site-packages/pandas/io/excel/_openpyxl.py:109\u001b[0m, in \u001b[0;36mOpenpyxlWriter._save\u001b[0;34m(self)\u001b[0m\n\u001b[1;32m    105\u001b[0m \u001b[39mdef\u001b[39;00m \u001b[39m_save\u001b[39m(\u001b[39mself\u001b[39m) \u001b[39m-\u001b[39m\u001b[39m>\u001b[39m \u001b[39mNone\u001b[39;00m:\n\u001b[1;32m    106\u001b[0m \u001b[39m    \u001b[39m\u001b[39m\"\"\"\u001b[39;00m\n\u001b[1;32m    107\u001b[0m \u001b[39m    Save workbook to disk.\u001b[39;00m\n\u001b[1;32m    108\u001b[0m \u001b[39m    \"\"\"\u001b[39;00m\n\u001b[0;32m--> 109\u001b[0m     \u001b[39mself\u001b[39;49m\u001b[39m.\u001b[39;49mbook\u001b[39m.\u001b[39;49msave(\u001b[39mself\u001b[39;49m\u001b[39m.\u001b[39;49m_handles\u001b[39m.\u001b[39;49mhandle)\n\u001b[1;32m    110\u001b[0m     \u001b[39mif\u001b[39;00m \u001b[39m\"\u001b[39m\u001b[39mr+\u001b[39m\u001b[39m\"\u001b[39m \u001b[39min\u001b[39;00m \u001b[39mself\u001b[39m\u001b[39m.\u001b[39m_mode \u001b[39mand\u001b[39;00m \u001b[39mnot\u001b[39;00m \u001b[39misinstance\u001b[39m(\u001b[39mself\u001b[39m\u001b[39m.\u001b[39m_handles\u001b[39m.\u001b[39mhandle, mmap\u001b[39m.\u001b[39mmmap):\n\u001b[1;32m    111\u001b[0m         \u001b[39m# truncate file to the written content\u001b[39;00m\n\u001b[1;32m    112\u001b[0m         \u001b[39mself\u001b[39m\u001b[39m.\u001b[39m_handles\u001b[39m.\u001b[39mhandle\u001b[39m.\u001b[39mtruncate()\n",
      "File \u001b[0;32m/opt/homebrew/anaconda3/lib/python3.10/site-packages/openpyxl/workbook/workbook.py:386\u001b[0m, in \u001b[0;36mWorkbook.save\u001b[0;34m(self, filename)\u001b[0m\n\u001b[1;32m    384\u001b[0m \u001b[39mif\u001b[39;00m \u001b[39mself\u001b[39m\u001b[39m.\u001b[39mwrite_only \u001b[39mand\u001b[39;00m \u001b[39mnot\u001b[39;00m \u001b[39mself\u001b[39m\u001b[39m.\u001b[39mworksheets:\n\u001b[1;32m    385\u001b[0m     \u001b[39mself\u001b[39m\u001b[39m.\u001b[39mcreate_sheet()\n\u001b[0;32m--> 386\u001b[0m save_workbook(\u001b[39mself\u001b[39;49m, filename)\n",
      "File \u001b[0;32m/opt/homebrew/anaconda3/lib/python3.10/site-packages/openpyxl/writer/excel.py:294\u001b[0m, in \u001b[0;36msave_workbook\u001b[0;34m(workbook, filename)\u001b[0m\n\u001b[1;32m    292\u001b[0m workbook\u001b[39m.\u001b[39mproperties\u001b[39m.\u001b[39mmodified \u001b[39m=\u001b[39m datetime\u001b[39m.\u001b[39mdatetime\u001b[39m.\u001b[39mutcnow()\n\u001b[1;32m    293\u001b[0m writer \u001b[39m=\u001b[39m ExcelWriter(workbook, archive)\n\u001b[0;32m--> 294\u001b[0m writer\u001b[39m.\u001b[39;49msave()\n\u001b[1;32m    295\u001b[0m \u001b[39mreturn\u001b[39;00m \u001b[39mTrue\u001b[39;00m\n",
      "File \u001b[0;32m/opt/homebrew/anaconda3/lib/python3.10/site-packages/openpyxl/writer/excel.py:275\u001b[0m, in \u001b[0;36mExcelWriter.save\u001b[0;34m(self)\u001b[0m\n\u001b[1;32m    273\u001b[0m \u001b[39mdef\u001b[39;00m \u001b[39msave\u001b[39m(\u001b[39mself\u001b[39m):\n\u001b[1;32m    274\u001b[0m \u001b[39m    \u001b[39m\u001b[39m\"\"\"Write data into the archive.\"\"\"\u001b[39;00m\n\u001b[0;32m--> 275\u001b[0m     \u001b[39mself\u001b[39;49m\u001b[39m.\u001b[39;49mwrite_data()\n\u001b[1;32m    276\u001b[0m     \u001b[39mself\u001b[39m\u001b[39m.\u001b[39m_archive\u001b[39m.\u001b[39mclose()\n",
      "File \u001b[0;32m/opt/homebrew/anaconda3/lib/python3.10/site-packages/openpyxl/writer/excel.py:77\u001b[0m, in \u001b[0;36mExcelWriter.write_data\u001b[0;34m(self)\u001b[0m\n\u001b[1;32m     74\u001b[0m     custom_override \u001b[39m=\u001b[39m CustomOverride()\n\u001b[1;32m     75\u001b[0m     \u001b[39mself\u001b[39m\u001b[39m.\u001b[39mmanifest\u001b[39m.\u001b[39mappend(custom_override)\n\u001b[0;32m---> 77\u001b[0m \u001b[39mself\u001b[39;49m\u001b[39m.\u001b[39;49m_write_worksheets()\n\u001b[1;32m     78\u001b[0m \u001b[39mself\u001b[39m\u001b[39m.\u001b[39m_write_chartsheets()\n\u001b[1;32m     79\u001b[0m \u001b[39mself\u001b[39m\u001b[39m.\u001b[39m_write_images()\n",
      "File \u001b[0;32m/opt/homebrew/anaconda3/lib/python3.10/site-packages/openpyxl/writer/excel.py:215\u001b[0m, in \u001b[0;36mExcelWriter._write_worksheets\u001b[0;34m(self)\u001b[0m\n\u001b[1;32m    212\u001b[0m \u001b[39mfor\u001b[39;00m idx, ws \u001b[39min\u001b[39;00m \u001b[39menumerate\u001b[39m(\u001b[39mself\u001b[39m\u001b[39m.\u001b[39mworkbook\u001b[39m.\u001b[39mworksheets, \u001b[39m1\u001b[39m):\n\u001b[1;32m    214\u001b[0m     ws\u001b[39m.\u001b[39m_id \u001b[39m=\u001b[39m idx\n\u001b[0;32m--> 215\u001b[0m     \u001b[39mself\u001b[39;49m\u001b[39m.\u001b[39;49mwrite_worksheet(ws)\n\u001b[1;32m    217\u001b[0m     \u001b[39mif\u001b[39;00m ws\u001b[39m.\u001b[39m_drawing:\n\u001b[1;32m    218\u001b[0m         \u001b[39mself\u001b[39m\u001b[39m.\u001b[39m_write_drawing(ws\u001b[39m.\u001b[39m_drawing)\n",
      "File \u001b[0;32m/opt/homebrew/anaconda3/lib/python3.10/site-packages/openpyxl/writer/excel.py:200\u001b[0m, in \u001b[0;36mExcelWriter.write_worksheet\u001b[0;34m(self, ws)\u001b[0m\n\u001b[1;32m    198\u001b[0m \u001b[39melse\u001b[39;00m:\n\u001b[1;32m    199\u001b[0m     writer \u001b[39m=\u001b[39m WorksheetWriter(ws)\n\u001b[0;32m--> 200\u001b[0m     writer\u001b[39m.\u001b[39;49mwrite()\n\u001b[1;32m    202\u001b[0m ws\u001b[39m.\u001b[39m_rels \u001b[39m=\u001b[39m writer\u001b[39m.\u001b[39m_rels\n\u001b[1;32m    203\u001b[0m \u001b[39mself\u001b[39m\u001b[39m.\u001b[39m_archive\u001b[39m.\u001b[39mwrite(writer\u001b[39m.\u001b[39mout, ws\u001b[39m.\u001b[39mpath[\u001b[39m1\u001b[39m:])\n",
      "File \u001b[0;32m/opt/homebrew/anaconda3/lib/python3.10/site-packages/openpyxl/worksheet/_writer.py:359\u001b[0m, in \u001b[0;36mopenpyxl.worksheet._writer.WorksheetWriter.write\u001b[0;34m()\u001b[0m\n",
      "File \u001b[0;32m/opt/homebrew/anaconda3/lib/python3.10/site-packages/openpyxl/worksheet/_writer.py:123\u001b[0m, in \u001b[0;36mopenpyxl.worksheet._writer.WorksheetWriter.write_rows\u001b[0;34m()\u001b[0m\n",
      "File \u001b[0;32m/opt/homebrew/anaconda3/lib/python3.10/site-packages/openpyxl/worksheet/_writer.py:125\u001b[0m, in \u001b[0;36mopenpyxl.worksheet._writer.WorksheetWriter.write_rows\u001b[0;34m()\u001b[0m\n",
      "File \u001b[0;32m/opt/homebrew/anaconda3/lib/python3.10/site-packages/openpyxl/worksheet/_writer.py:135\u001b[0m, in \u001b[0;36mopenpyxl.worksheet._writer.WorksheetWriter.write_row\u001b[0;34m()\u001b[0m\n",
      "File \u001b[0;32m/opt/homebrew/anaconda3/lib/python3.10/site-packages/openpyxl/worksheet/_writer.py:147\u001b[0m, in \u001b[0;36mopenpyxl.worksheet._writer.WorksheetWriter.write_row\u001b[0;34m()\u001b[0m\n",
      "File \u001b[0;32m/opt/homebrew/anaconda3/lib/python3.10/site-packages/openpyxl/cell/_writer.py:100\u001b[0m, in \u001b[0;36mlxml_write_cell\u001b[0;34m(xf, worksheet, cell, styled)\u001b[0m\n\u001b[1;32m     99\u001b[0m \u001b[39mdef\u001b[39;00m \u001b[39mlxml_write_cell\u001b[39m(xf, worksheet, cell, styled\u001b[39m=\u001b[39m\u001b[39mFalse\u001b[39;00m):\n\u001b[0;32m--> 100\u001b[0m     value, attributes \u001b[39m=\u001b[39m _set_attributes(cell, styled)\n\u001b[1;32m    102\u001b[0m     \u001b[39mif\u001b[39;00m value \u001b[39m==\u001b[39m \u001b[39m'\u001b[39m\u001b[39m'\u001b[39m \u001b[39mor\u001b[39;00m value \u001b[39mis\u001b[39;00m \u001b[39mNone\u001b[39;00m:\n\u001b[1;32m    103\u001b[0m         \u001b[39mwith\u001b[39;00m xf\u001b[39m.\u001b[39melement(\u001b[39m\"\u001b[39m\u001b[39mc\u001b[39m\u001b[39m\"\u001b[39m, attributes):\n",
      "File \u001b[0;32m/opt/homebrew/anaconda3/lib/python3.10/site-packages/openpyxl/cell/_writer.py:19\u001b[0m, in \u001b[0;36m_set_attributes\u001b[0;34m(cell, styled)\u001b[0m\n\u001b[1;32m     17\u001b[0m attrs \u001b[39m=\u001b[39m {\u001b[39m'\u001b[39m\u001b[39mr\u001b[39m\u001b[39m'\u001b[39m: coordinate}\n\u001b[1;32m     18\u001b[0m \u001b[39mif\u001b[39;00m styled:\n\u001b[0;32m---> 19\u001b[0m     attrs[\u001b[39m'\u001b[39m\u001b[39ms\u001b[39m\u001b[39m'\u001b[39m] \u001b[39m=\u001b[39m \u001b[39mf\u001b[39m\u001b[39m\"\u001b[39m\u001b[39m{\u001b[39;00mcell\u001b[39m.\u001b[39;49mstyle_id\u001b[39m}\u001b[39;00m\u001b[39m\"\u001b[39m\n\u001b[1;32m     21\u001b[0m \u001b[39mif\u001b[39;00m cell\u001b[39m.\u001b[39mdata_type \u001b[39m==\u001b[39m \u001b[39m\"\u001b[39m\u001b[39ms\u001b[39m\u001b[39m\"\u001b[39m:\n\u001b[1;32m     22\u001b[0m     attrs[\u001b[39m'\u001b[39m\u001b[39mt\u001b[39m\u001b[39m'\u001b[39m] \u001b[39m=\u001b[39m \u001b[39m\"\u001b[39m\u001b[39minlineStr\u001b[39m\u001b[39m\"\u001b[39m\n",
      "File \u001b[0;32m/opt/homebrew/anaconda3/lib/python3.10/site-packages/openpyxl/styles/styleable.py:144\u001b[0m, in \u001b[0;36mStyleableObject.style_id\u001b[0;34m(self)\u001b[0m\n\u001b[1;32m    142\u001b[0m \u001b[39mif\u001b[39;00m \u001b[39mself\u001b[39m\u001b[39m.\u001b[39m_style \u001b[39mis\u001b[39;00m \u001b[39mNone\u001b[39;00m:\n\u001b[1;32m    143\u001b[0m     \u001b[39mself\u001b[39m\u001b[39m.\u001b[39m_style \u001b[39m=\u001b[39m StyleArray()\n\u001b[0;32m--> 144\u001b[0m \u001b[39mreturn\u001b[39;00m \u001b[39mself\u001b[39;49m\u001b[39m.\u001b[39;49mparent\u001b[39m.\u001b[39;49mparent\u001b[39m.\u001b[39;49m_cell_styles\u001b[39m.\u001b[39;49madd(\u001b[39mself\u001b[39;49m\u001b[39m.\u001b[39;49m_style)\n",
      "File \u001b[0;32m/opt/homebrew/anaconda3/lib/python3.10/site-packages/openpyxl/utils/indexed_list.py:47\u001b[0m, in \u001b[0;36mIndexedList.add\u001b[0;34m(self, value)\u001b[0m\n\u001b[1;32m     44\u001b[0m         \u001b[39mself\u001b[39m\u001b[39m.\u001b[39m_dict[value] \u001b[39m=\u001b[39m \u001b[39mlen\u001b[39m(\u001b[39mself\u001b[39m)\n\u001b[1;32m     45\u001b[0m         \u001b[39mlist\u001b[39m\u001b[39m.\u001b[39mappend(\u001b[39mself\u001b[39m, value)\n\u001b[0;32m---> 47\u001b[0m \u001b[39mdef\u001b[39;00m \u001b[39madd\u001b[39m(\u001b[39mself\u001b[39m, value):\n\u001b[1;32m     48\u001b[0m     \u001b[39mself\u001b[39m\u001b[39m.\u001b[39mappend(value)\n\u001b[1;32m     49\u001b[0m     \u001b[39mreturn\u001b[39;00m \u001b[39mself\u001b[39m\u001b[39m.\u001b[39m_dict[value]\n",
      "\u001b[0;31mKeyboardInterrupt\u001b[0m: "
     ]
    }
   ],
   "source": [
    "# 将年份和月份合并为一个新的标签\n",
    "merged_df['年-月'] = merged_df['年份'].astype(str) + '-' + merged_df['月份'].astype(str)\n",
    "\n",
    "# 打印合并后的结果\n",
    "print(merged_df)\n",
    "\n",
    "# 假设你的DataFrame名为 result_df，将其保存为名为 \"result.xlsx\" 的Excel文件\n",
    "merged_df.to_excel('Result.xlsx', index=False)\n",
    "\n"
   ]
  },
  {
   "cell_type": "code",
   "execution_count": 32,
   "metadata": {},
   "outputs": [
    {
     "name": "stdout",
     "output_type": "stream",
     "text": [
      "             销售日期        扫码销售时间             单品编码  销量(千克)  销售单价(元/千克) 销售类型  \\\n",
      "0      2020-07-01  09:15:07.924  102900005117056   0.396         7.6   销售   \n",
      "1      2020-07-01  09:17:27.295  102900005115960   0.849         3.2   销售   \n",
      "2      2020-07-01  09:17:33.905  102900005117056   0.409         7.6   销售   \n",
      "3      2020-07-01  09:19:45.450  102900005115823   0.421        10.0   销售   \n",
      "4      2020-07-01  09:20:23.686  102900005115908   0.539         8.0   销售   \n",
      "...           ...           ...              ...     ...         ...  ...   \n",
      "878498 2023-06-30  21:35:13.264  102900005115250   0.284        24.0   销售   \n",
      "878499 2023-06-30  21:35:14.358  102900011022764   0.669        12.0   销售   \n",
      "878500 2023-06-30  21:35:20.264  102900005115250   0.125        24.0   销售   \n",
      "878501 2023-06-30  21:35:21.509  102900011016701   0.252         5.2   销售   \n",
      "878502 2023-06-30  21:40:48.248  102900011022764   0.803        12.0   销售   \n",
      "\n",
      "       是否打折销售     单品名称 分类名称    年份  月份     年-月      年-月-品类  \n",
      "0           否  泡泡椒(精品)  辣椒类  2020   7  2020-7  2020-7-辣椒类  \n",
      "1           否      大白菜  花叶类  2020   7  2020-7  2020-7-花叶类  \n",
      "2           否  泡泡椒(精品)  辣椒类  2020   7  2020-7  2020-7-辣椒类  \n",
      "3           否      上海青  花叶类  2020   7  2020-7  2020-7-花叶类  \n",
      "4           否       菜心  花叶类  2020   7  2020-7  2020-7-花叶类  \n",
      "...       ...      ...  ...   ...  ..     ...         ...  \n",
      "878498      否  西峡花菇(1)  食用菌  2023   6  2023-6  2023-6-食用菌  \n",
      "878499      否      长线茄   茄类  2023   6  2023-6   2023-6-茄类  \n",
      "878500      否  西峡花菇(1)  食用菌  2023   6  2023-6  2023-6-食用菌  \n",
      "878501      否  芜湖青椒(1)  辣椒类  2023   6  2023-6  2023-6-辣椒类  \n",
      "878502      否      长线茄   茄类  2023   6  2023-6   2023-6-茄类  \n",
      "\n",
      "[878503 rows x 13 columns]\n"
     ]
    }
   ],
   "source": [
    "# 将 \"年-月\" 和 \"品类名称\" 拼接为一个新的标签\n",
    "merged_df['年-月-品类'] = merged_df['年-月'] + '-' + merged_df['分类名称']\n",
    "# 打印合并后的结果\n",
    "print(merged_df)\n"
   ]
  },
  {
   "cell_type": "code",
   "execution_count": 43,
   "metadata": {},
   "outputs": [
    {
     "name": "stdout",
     "output_type": "stream",
     "text": [
      "            年-月-品类      总销售量\n",
      "0    2020-10-水生根茎类  1344.118\n",
      "1      2020-10-花叶类  6395.312\n",
      "2      2020-10-花菜类  1644.963\n",
      "3       2020-10-茄类   771.967\n",
      "4      2020-10-辣椒类  1908.944\n",
      "..             ...       ...\n",
      "211     2023-6-花叶类  4660.197\n",
      "212     2023-6-花菜类   533.189\n",
      "213      2023-6-茄类   769.315\n",
      "214     2023-6-辣椒类  2714.933\n",
      "215     2023-6-食用菌  1718.985\n",
      "\n",
      "[216 rows x 2 columns]\n"
     ]
    }
   ],
   "source": [
    "month_grouped = merged_df.groupby('年-月-品类')\n",
    "\n",
    "total_sales_by_group = month_grouped['销量(千克)'].sum()\n",
    "\n",
    "# 为第二列添加表头\n",
    "total_sales_by_group = total_sales_by_group.reset_index()\n",
    "total_sales_by_group = total_sales_by_group.rename(columns={'销量(千克)': '总销售量/kg'})\n",
    "\n",
    "# 打印每个分组的总销售量\n",
    "print(total_sales_by_group)"
   ]
  },
  {
   "cell_type": "code",
   "execution_count": 48,
   "metadata": {},
   "outputs": [
    {
     "name": "stdout",
     "output_type": "stream",
     "text": [
      "            年-月-品类      总销售量    年份   品类名称  月份\n",
      "0    2020-10-水生根茎类  1344.118  2020  水生根茎类  10\n",
      "1      2020-10-花叶类  6395.312  2020    花叶类  10\n",
      "2      2020-10-花菜类  1644.963  2020    花菜类  10\n",
      "3       2020-10-茄类   771.967  2020     茄类  10\n",
      "4      2020-10-辣椒类  1908.944  2020    辣椒类  10\n",
      "..             ...       ...   ...    ...  ..\n",
      "211     2023-6-花叶类  4660.197  2023    花叶类   6\n",
      "212     2023-6-花菜类   533.189  2023    花菜类   6\n",
      "213      2023-6-茄类   769.315  2023     茄类   6\n",
      "214     2023-6-辣椒类  2714.933  2023    辣椒类   6\n",
      "215     2023-6-食用菌  1718.985  2023    食用菌   6\n",
      "\n",
      "[216 rows x 5 columns]\n"
     ]
    }
   ],
   "source": [
    "# 使用字符串的 .str.split 方法切割 \"年-月-品类\" 列，获取年份、月份和品类名称\n",
    "total_sales_by_group[['年份', '月份', '品类名称']] = total_sales_by_group['年-月-品类'].str.split('-', expand=True)\n",
    "\n",
    "# 打印切割后的结果\n",
    "print(total_sales_by_group)\n",
    "\n",
    "\n"
   ]
  },
  {
   "cell_type": "code",
   "execution_count": 49,
   "metadata": {},
   "outputs": [
    {
     "name": "stdout",
     "output_type": "stream",
     "text": [
      "            年-月-品类      总销售量    年份   品类名称  月份      年-月\n",
      "0    2020-10-水生根茎类  1344.118  2020  水生根茎类  10  2020-10\n",
      "1      2020-10-花叶类  6395.312  2020    花叶类  10  2020-10\n",
      "2      2020-10-花菜类  1644.963  2020    花菜类  10  2020-10\n",
      "3       2020-10-茄类   771.967  2020     茄类  10  2020-10\n",
      "4      2020-10-辣椒类  1908.944  2020    辣椒类  10  2020-10\n",
      "..             ...       ...   ...    ...  ..      ...\n",
      "211     2023-6-花叶类  4660.197  2023    花叶类   6   2023-6\n",
      "212     2023-6-花菜类   533.189  2023    花菜类   6   2023-6\n",
      "213      2023-6-茄类   769.315  2023     茄类   6   2023-6\n",
      "214     2023-6-辣椒类  2714.933  2023    辣椒类   6   2023-6\n",
      "215     2023-6-食用菌  1718.985  2023    食用菌   6   2023-6\n",
      "\n",
      "[216 rows x 6 columns]\n"
     ]
    }
   ],
   "source": [
    "# 使用字符串操作合并 \"年份\" 和 \"月份\" 到一个新的列 \"年-月\"\n",
    "total_sales_by_group['年-月'] = total_sales_by_group['年份'] + '-' + total_sales_by_group['月份']\n",
    "\n",
    "# 打印带有新列的结果\n",
    "print(total_sales_by_group)\n"
   ]
  }
 ],
 "metadata": {
  "kernelspec": {
   "display_name": "Python 3",
   "language": "python",
   "name": "python3"
  },
  "language_info": {
   "codemirror_mode": {
    "name": "ipython",
    "version": 3
   },
   "file_extension": ".py",
   "mimetype": "text/x-python",
   "name": "python",
   "nbconvert_exporter": "python",
   "pygments_lexer": "ipython3",
   "version": "3.10.8"
  },
  "orig_nbformat": 4
 },
 "nbformat": 4,
 "nbformat_minor": 2
}
