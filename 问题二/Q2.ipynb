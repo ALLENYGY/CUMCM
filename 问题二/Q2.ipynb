{
 "cells": [
  {
   "cell_type": "markdown",
   "metadata": {},
   "source": [
    "# 问题2\n",
    "## 数据预处理与清洗\n",
    "1. 提取数据+计算利润+计算加成率\n",
    "2. 3sigma异常值处理\n"
   ]
  },
  {
   "cell_type": "markdown",
   "metadata": {},
   "source": [
    "## 各蔬菜品类的销售总量与成本加成定价的关系\n",
    "1. 对于每个类进行建立单独的ADF检验\n",
    "2. 寻找最优滞后阶数\n",
    "3. 对于每个类进行建立单独的VAR向量自回归模型,得出各蔬菜品类的销售总量与成本加成定价的关系\n",
    "4. VAR模型稳定性检验\n"
   ]
  },
  {
   "cell_type": "markdown",
   "metadata": {},
   "source": [
    "\n",
    "## 各蔬菜品类未来一周(2023 年7 月 1-7 日)的日补货总量和定价策略\n",
    "> 前提:忽略库存,理想情况下日补货总量将等于日销售量为最佳\n",
    "## 因果检验\n",
    "1. ADF检验确认各时间序列均是平稳序列(避免伪回归)\n",
    "2. 使用之前的每类的最优滞后阶数(通过对FPE、AIC、SC、HQ的指标进行评价)\n",
    "3. 格兰杰因果检验变量之间是否存在因果关系(证明销量(千克)可以引起销售单价(元/千克)变化)\n",
    "### 售价关系与(销售量+批发)的关系\n",
    "1. 建立回归模型\n",
    "2. F检验\n",
    "3. $R^2$检验\n",
    "4. 得到公式:$$售价=A*销售量+B*批发价+C\\space\\space\\space\\space\\space\\space\\space\\space(1)$$\n",
    "### 利润公式\n",
    "$$利润=销量*(售价-批发)\\space\\space\\space\\space\\space\\space\\space\\space(2)$$\n",
    "### 批发价预测\n",
    "时间序列ARIMA预测\n",
    "### 联立\n",
    "联立公式(1)(2),即可得到一个一元二次方程(将批发价视为常数的话),即可求得最大值"
   ]
  }
 ],
 "metadata": {
  "kernelspec": {
   "display_name": "Python 3",
   "language": "python",
   "name": "python3"
  },
  "language_info": {
   "codemirror_mode": {
    "name": "ipython",
    "version": 3
   },
   "file_extension": ".py",
   "mimetype": "text/x-python",
   "name": "python",
   "nbconvert_exporter": "python",
   "pygments_lexer": "ipython3",
   "version": "3.10.7"
  },
  "orig_nbformat": 4
 },
 "nbformat": 4,
 "nbformat_minor": 2
}
